{
 "cells": [
  {
   "cell_type": "code",
   "execution_count": 1,
   "metadata": {},
   "outputs": [],
   "source": [
    "from arguseyes import ArgusEyes\n",
    "from arguseyes.refinements import FairnessMetrics"
   ]
  },
  {
   "cell_type": "code",
   "execution_count": 2,
   "metadata": {},
   "outputs": [],
   "source": [
    "eyes = ArgusEyes('demo', '../../mlruns')"
   ]
  },
  {
   "cell_type": "markdown",
   "metadata": {},
   "source": [
    "## We can automatically compute group fairness metrics for the classifier\n",
    "\n",
    "We can determine that the false negative rate (falsely labeling a high-income person as low-income) is much higher for non-male and non-white persons compared to the rest"
   ]
  },
  {
   "cell_type": "code",
   "execution_count": 3,
   "metadata": {},
   "outputs": [
    {
     "name": "stderr",
     "output_type": "stream",
     "text": [
      "2021-07-19 17:36:56.403512: I tensorflow/stream_executor/platform/default/dso_loader.cc:53] Successfully opened dynamic library libcudart.so.11.0\n"
     ]
    },
    {
     "name": "stdout",
     "output_type": "stream",
     "text": [
      "Model accuracy on held-out data 0.8164088324738861\n",
      "FNR (sex=Male): 0.6065128900949797, FNR (sex!=Male): 0.672316384180791\n",
      "FNR (race=White): 0.6115832546427448, FNR (race!=White): 0.6688741721854304\n"
     ]
    }
   ],
   "source": [
    "with eyes.classification_pipeline_from_py_file('income-classifier.py') as pipeline:\n",
    "    \n",
    "    pipeline.compute(FairnessMetrics(sensitive_attribute='sex', non_protected_class='Male'))\n",
    "    pipeline.compute(FairnessMetrics(sensitive_attribute='race', non_protected_class='White'))"
   ]
  },
  {
   "cell_type": "code",
   "execution_count": null,
   "metadata": {},
   "outputs": [],
   "source": []
  }
 ],
 "metadata": {
  "kernelspec": {
   "display_name": "Python 3",
   "language": "python",
   "name": "python3"
  },
  "language_info": {
   "codemirror_mode": {
    "name": "ipython",
    "version": 3
   },
   "file_extension": ".py",
   "mimetype": "text/x-python",
   "name": "python",
   "nbconvert_exporter": "python",
   "pygments_lexer": "ipython3",
   "version": "3.9.4"
  }
 },
 "nbformat": 4,
 "nbformat_minor": 4
}
