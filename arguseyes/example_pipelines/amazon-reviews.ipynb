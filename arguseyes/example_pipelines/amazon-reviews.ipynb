{
 "cells": [
  {
   "cell_type": "code",
   "execution_count": 7,
   "metadata": {},
   "outputs": [],
   "source": [
    "import pandas as pd\n",
    "import datetime\n",
    "import numpy as np\n",
    "\n",
    "from sklearn.preprocessing import OneHotEncoder, label_binarize, StandardScaler, FunctionTransformer\n",
    "from sklearn.compose import ColumnTransformer\n",
    "from sklearn.linear_model import SGDClassifier\n",
    "from sklearn.model_selection import GridSearchCV\n",
    "from sklearn.feature_extraction.text import HashingVectorizer\n",
    "from sklearn.pipeline import Pipeline\n",
    "\n",
    "target_categories = ['Digital_Video_Games']\n",
    "split_date = '2015-07-31'"
   ]
  },
  {
   "cell_type": "code",
   "execution_count": 8,
   "metadata": {},
   "outputs": [],
   "source": [
    "abs_path = '/home/ssc/Entwicklung/projects/argos/arguseyes/example_pipelines/'\n",
    "\n",
    "reviews = pd.read_csv(f'{abs_path}datasets/amazon-reviews/reviews.csv.gz', compression='gzip', index_col=0)\n",
    "products = pd.read_csv(f'{abs_path}datasets/amazon-reviews/products.csv', index_col=0)\n",
    "categories = pd.read_csv(f'{abs_path}datasets/amazon-reviews/categories.csv', index_col=0)\n",
    "ratings = pd.read_csv(f'{abs_path}datasets/amazon-reviews/ratings.csv', index_col=0)"
   ]
  },
  {
   "cell_type": "code",
   "execution_count": 9,
   "metadata": {},
   "outputs": [],
   "source": [
    "reviews = reviews[reviews.verified_purchase == 'Y']\n",
    "reviews = reviews[reviews.marketplace == 'US']\n",
    "reviews = reviews[reviews.review_date >= '2015-01-01']"
   ]
  },
  {
   "cell_type": "code",
   "execution_count": 10,
   "metadata": {},
   "outputs": [],
   "source": [
    "reviews_with_ratings = reviews.merge(ratings, on='review_id')"
   ]
  },
  {
   "cell_type": "code",
   "execution_count": 11,
   "metadata": {},
   "outputs": [],
   "source": [
    "categories_of_interest = categories[categories.category.isin(target_categories)]\n",
    "products_of_interest = products.merge(left_on='category_id', right_on='id', right=categories_of_interest)"
   ]
  },
  {
   "cell_type": "code",
   "execution_count": 12,
   "metadata": {},
   "outputs": [],
   "source": [
    "reviews_with_products_and_ratings = reviews_with_ratings.merge(products_of_interest, on='product_id')\n",
    "\n",
    "reviews_with_products_and_ratings['product_title'] = \\\n",
    "    reviews_with_products_and_ratings['product_title'].fillna(value='')\n",
    "\n",
    "reviews_with_products_and_ratings['review_headline'] = \\\n",
    "    reviews_with_products_and_ratings['review_headline'].fillna(value='')\n",
    "\n",
    "reviews_with_products_and_ratings['review_body'] = \\\n",
    "    reviews_with_products_and_ratings['review_body'].fillna(value='')\n",
    "\n",
    "\n",
    "\n",
    "reviews_with_products_and_ratings['title_and_review_text'] = \\\n",
    "    reviews_with_products_and_ratings.product_title + ' ' + \\\n",
    "    reviews_with_products_and_ratings.review_headline + ' ' + \\\n",
    "    reviews_with_products_and_ratings.review_body"
   ]
  },
  {
   "cell_type": "code",
   "execution_count": 13,
   "metadata": {},
   "outputs": [
    {
     "name": "stderr",
     "output_type": "stream",
     "text": [
      "/tmp/ipykernel_25288/3489528601.py:4: SettingWithCopyWarning: \n",
      "A value is trying to be set on a copy of a slice from a DataFrame.\n",
      "Try using .loc[row_indexer,col_indexer] = value instead\n",
      "\n",
      "See the caveats in the documentation: https://pandas.pydata.org/pandas-docs/stable/user_guide/indexing.html#returning-a-view-versus-a-copy\n",
      "  train_data['is_helpful'] = train_data['helpful_votes'] > 0\n",
      "/tmp/ipykernel_25288/3489528601.py:5: SettingWithCopyWarning: \n",
      "A value is trying to be set on a copy of a slice from a DataFrame.\n",
      "Try using .loc[row_indexer,col_indexer] = value instead\n",
      "\n",
      "See the caveats in the documentation: https://pandas.pydata.org/pandas-docs/stable/user_guide/indexing.html#returning-a-view-versus-a-copy\n",
      "  test_data['is_helpful'] = test_data['helpful_votes'] > 0\n"
     ]
    }
   ],
   "source": [
    "train_data = reviews_with_products_and_ratings[reviews_with_products_and_ratings.review_date <= split_date]\n",
    "test_data = reviews_with_products_and_ratings[reviews_with_products_and_ratings.review_date > split_date]\n",
    "\n",
    "train_data['is_helpful'] = train_data['helpful_votes'] > 0\n",
    "test_data['is_helpful'] = test_data['helpful_votes'] > 0\n",
    "\n",
    "train_labels = label_binarize(train_data['is_helpful'], classes=[True, False])\n",
    "test_labels = label_binarize(test_data['is_helpful'], classes=[True, False])"
   ]
  },
  {
   "cell_type": "code",
   "execution_count": 17,
   "metadata": {},
   "outputs": [],
   "source": [
    "numerical_attributes = ['star_rating']\n",
    "categorical_attributes = ['vine', 'verified_purchase', 'category_id']\n",
    "\n",
    "feature_transformation = ColumnTransformer(transformers=[\n",
    "    ('numerical_features', StandardScaler(), numerical_attributes),\n",
    "    ('categorical_features', OneHotEncoder(handle_unknown='ignore'), categorical_attributes),\n",
    "    ('textual_features', HashingVectorizer(ngram_range=(1, 3), n_features=100), 'title_and_review_text')\n",
    "])\n",
    "\n",
    "#param_grid = {\n",
    "#    'learner__alpha': [0.0001, 0.001, 0.01, 0.1]\n",
    "#}\n",
    "\n",
    "pipeline = Pipeline([\n",
    "    ('features', feature_transformation),\n",
    "    ('learner', SGDClassifier(loss='log', penalty='l1', max_iter=1000))])"
   ]
  },
  {
   "cell_type": "code",
   "execution_count": 18,
   "metadata": {},
   "outputs": [
    {
     "name": "stderr",
     "output_type": "stream",
     "text": [
      "/home/ssc/Entwicklung/projects/argos/venv/lib/python3.9/site-packages/sklearn/utils/validation.py:72: DataConversionWarning: A column-vector y was passed when a 1d array was expected. Please change the shape of y to (n_samples, ), for example using ravel().\n",
      "  return f(**kwargs)\n"
     ]
    }
   ],
   "source": [
    "#search = GridSearchCV(pipeline, param_grid, scoring='roc_auc', cv=5, n_jobs=-1, verbose=2)\n",
    "#model = search.fit(train_data, train_labels)\n",
    "model = pipeline.fit(train_data, train_labels)"
   ]
  },
  {
   "cell_type": "code",
   "execution_count": 19,
   "metadata": {},
   "outputs": [
    {
     "data": {
      "text/plain": [
       "0.8643830828381684"
      ]
     },
     "execution_count": 19,
     "metadata": {},
     "output_type": "execute_result"
    }
   ],
   "source": [
    "model.score(test_data, test_labels)"
   ]
  },
  {
   "cell_type": "code",
   "execution_count": null,
   "metadata": {},
   "outputs": [],
   "source": []
  }
 ],
 "metadata": {
  "kernelspec": {
   "display_name": "Python 3",
   "language": "python",
   "name": "python3"
  },
  "language_info": {
   "codemirror_mode": {
    "name": "ipython",
    "version": 3
   },
   "file_extension": ".py",
   "mimetype": "text/x-python",
   "name": "python",
   "nbconvert_exporter": "python",
   "pygments_lexer": "ipython3",
   "version": "3.9.4"
  }
 },
 "nbformat": 4,
 "nbformat_minor": 5
}
