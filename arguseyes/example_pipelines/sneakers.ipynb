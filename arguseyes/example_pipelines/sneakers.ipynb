{
 "cells": [
  {
   "cell_type": "code",
   "execution_count": 1,
   "metadata": {},
   "outputs": [
    {
     "name": "stderr",
     "output_type": "stream",
     "text": [
      "2021-07-15 19:55:25.812127: I tensorflow/stream_executor/platform/default/dso_loader.cc:53] Successfully opened dynamic library libcudart.so.11.0\n"
     ]
    }
   ],
   "source": [
    "import numpy as np\n",
    "import pandas as pd\n",
    "\n",
    "from tensorflow.python.keras.wrappers.scikit_learn import KerasClassifier\n",
    "from tensorflow.keras.layers import Dense, Conv2D, MaxPooling2D, Dropout, Flatten\n",
    "from tensorflow.keras.models import Sequential\n",
    "\n",
    "from sklearn.model_selection import train_test_split\n",
    "from sklearn.preprocessing import StandardScaler, FunctionTransformer, OneHotEncoder, label_binarize\n",
    "from sklearn.pipeline import Pipeline"
   ]
  },
  {
   "cell_type": "code",
   "execution_count": 2,
   "metadata": {},
   "outputs": [],
   "source": [
    "abs_path = '/home/ssc/Entwicklung/projects/arguseyes/arguseyes/example_pipelines/datasets/sneakers/'\n",
    "\n",
    "def decode_image(img_str):\n",
    "    return np.array([int(val) for val in img_str.split(':')])\n",
    "\n",
    "train_data = pd.read_csv(f'{abs_path}product_images.csv', converters={'image': decode_image })"
   ]
  },
  {
   "cell_type": "code",
   "execution_count": 3,
   "metadata": {},
   "outputs": [],
   "source": [
    "product_categories = pd.read_csv(f'{abs_path}product_categories.csv')"
   ]
  },
  {
   "cell_type": "code",
   "execution_count": 4,
   "metadata": {},
   "outputs": [],
   "source": [
    "with_categories = train_data.merge(product_categories, on='category_id')\n",
    "\n",
    "categories_to_distinguish = ['Sneaker', 'Ankle boot']\n",
    "\n",
    "images_of_interest = with_categories[with_categories['category_name'].isin(categories_to_distinguish)]"
   ]
  },
  {
   "cell_type": "code",
   "execution_count": 13,
   "metadata": {},
   "outputs": [],
   "source": [
    "def normalise_image(images):\n",
    "    return images / 255.0\n",
    "\n",
    "def reshape_images(images):\n",
    "    return np.concatenate(images['image'].values) \\\n",
    "             .reshape(images.shape[0], 28, 28, 1)\n",
    "\n",
    "def create_cnn():\n",
    "    model = Sequential()\n",
    "    model.add(Conv2D(filters=64, kernel_size=2, padding='same', activation='relu',\n",
    "                                     input_shape=(28, 28, 1)))\n",
    "    model.add(MaxPooling2D(pool_size=2))\n",
    "    model.add(Dropout(0.3))\n",
    "    model.add(Conv2D(filters=32, kernel_size=2, padding='same', activation='relu'))\n",
    "    model.add(MaxPooling2D(pool_size=2))\n",
    "    model.add(Dropout(0.3))\n",
    "    model.add(Flatten())\n",
    "    model.add(Dense(256, activation='relu'))\n",
    "    model.add(Dropout(0.5))\n",
    "    model.add(Dense(2, activation='softmax'))\n",
    "\n",
    "    model.compile(loss='sparse_categorical_crossentropy', optimizer='adam', metrics=['accuracy'])\n",
    "    \n",
    "    return model\n",
    "\n",
    "pipeline = Pipeline(steps=[\n",
    "    ('normalisation', FunctionTransformer(normalise_image)),\n",
    "    ('reshaping', FunctionTransformer(reshape_images)),\n",
    "    ('model', KerasClassifier(create_cnn))\n",
    "])"
   ]
  },
  {
   "cell_type": "code",
   "execution_count": 14,
   "metadata": {},
   "outputs": [],
   "source": [
    "train, test = train_test_split(images_of_interest, test_size=0.2)\n",
    "\n",
    "y_train = label_binarize(train['category_name'], classes=categories_to_distinguish)\n",
    "y_test = label_binarize(test['category_name'], classes=categories_to_distinguish)"
   ]
  },
  {
   "cell_type": "code",
   "execution_count": 15,
   "metadata": {},
   "outputs": [
    {
     "name": "stdout",
     "output_type": "stream",
     "text": [
      "30/30 [==============================] - 1s 23ms/step - loss: 0.3016 - accuracy: 0.8726\n"
     ]
    }
   ],
   "source": [
    "model = pipeline.fit(train[['image']], y_train)"
   ]
  },
  {
   "cell_type": "code",
   "execution_count": 17,
   "metadata": {},
   "outputs": [
    {
     "name": "stdout",
     "output_type": "stream",
     "text": [
      "8/8 [==============================] - 0s 6ms/step - loss: 0.2026 - accuracy: 0.9160\n"
     ]
    },
    {
     "data": {
      "text/plain": [
       "0.9159663915634155"
      ]
     },
     "execution_count": 17,
     "metadata": {},
     "output_type": "execute_result"
    }
   ],
   "source": [
    "model.score(test[['image']], y_test)"
   ]
  },
  {
   "cell_type": "code",
   "execution_count": null,
   "metadata": {},
   "outputs": [],
   "source": []
  }
 ],
 "metadata": {
  "kernelspec": {
   "display_name": "Python 3",
   "language": "python",
   "name": "python3"
  },
  "language_info": {
   "codemirror_mode": {
    "name": "ipython",
    "version": 3
   },
   "file_extension": ".py",
   "mimetype": "text/x-python",
   "name": "python",
   "nbconvert_exporter": "python",
   "pygments_lexer": "ipython3",
   "version": "3.9.4"
  }
 },
 "nbformat": 4,
 "nbformat_minor": 4
}
